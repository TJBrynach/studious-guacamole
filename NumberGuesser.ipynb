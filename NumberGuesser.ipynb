{
 "metadata": {
  "language_info": {
   "codemirror_mode": {
    "name": "ipython",
    "version": 3
   },
   "file_extension": ".py",
   "mimetype": "text/x-python",
   "name": "python",
   "nbconvert_exporter": "python",
   "pygments_lexer": "ipython3",
   "version": "3.7.6-final"
  },
  "orig_nbformat": 2,
  "kernelspec": {
   "name": "python3",
   "display_name": "Python 3",
   "language": "python"
  }
 },
 "nbformat": 4,
 "nbformat_minor": 2,
 "cells": [
  {
   "cell_type": "code",
   "execution_count": 1,
   "metadata": {},
   "outputs": [],
   "source": [
    "def number_guesser():\n",
    "    print(\"Welcome to the number guesser game! Would you like to play?\")\n",
    "    x = input()\n",
    "    if x[0] == 'y' or x[0] == 'Y':\n",
    "        print(\"Lets get this show on the road, number is being generated now\")\n",
    "        \n",
    "        num = randint(1,10)\n",
    "        g1 = input(\"Our number to guess has been randomly generated. What is your first guess?\")\n",
    "\n",
    "        if g1 in range(1,10):\n",
    "            print(\"cool beans lets move\")\n",
    "        else:\n",
    "            print(\"Sorry! You're out of our range guess a number between 1 and 10\")\n",
    "        \n",
    "            \n",
    "    else:\n",
    "        print(\"Ah well maybe another time\")\n",
    "        \n",
    "    \n",
    "        "
   ]
  },
  {
   "cell_type": "code",
   "execution_count": 5,
   "metadata": {},
   "outputs": [
    {
     "output_type": "stream",
     "name": "stdout",
     "text": [
      "yes\n"
     ]
    }
   ],
   "source": [
    "\n",
    "if 10 in range(1,11):\n",
    "    print(\"yes\")\n",
    "\n"
   ]
  },
  {
   "cell_type": "code",
   "execution_count": 4,
   "metadata": {},
   "outputs": [
    {
     "output_type": "stream",
     "name": "stdout",
     "text": [
      "Welcome to the number guesser game! Would you like to play?\n",
      "Ah well maybe another time\n"
     ]
    }
   ],
   "source": [
    "number_guesser()"
   ]
  }
 ]
}
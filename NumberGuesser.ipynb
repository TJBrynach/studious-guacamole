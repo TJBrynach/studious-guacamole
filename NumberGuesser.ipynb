{
 "metadata": {
  "language_info": {
   "codemirror_mode": {
    "name": "ipython",
    "version": 3
   },
   "file_extension": ".py",
   "mimetype": "text/x-python",
   "name": "python",
   "nbconvert_exporter": "python",
   "pygments_lexer": "ipython3",
   "version": "3.7.6-final"
  },
  "orig_nbformat": 2,
  "kernelspec": {
   "name": "python3",
   "display_name": "Python 3",
   "language": "python"
  }
 },
 "nbformat": 4,
 "nbformat_minor": 2,
 "cells": [
  {
   "cell_type": "code",
   "execution_count": 18,
   "metadata": {},
   "outputs": [],
   "source": [
    "from random import randint"
   ]
  },
  {
   "source": [
    "### First Edition\n",
    "def number_guesser():\n",
    "    print(\"Welcome to the number guesser game! Would you like to play?\")\n",
    "    x = input()\n",
    "    if x[0] == 'y' or x[0] == 'Y':\n",
    "        print(\"Lets get this show on the road, number is being generated now, you have 5 guesses to get this correct\")\n",
    "        \n",
    "        num = randint(1,10)\n",
    "        guess = int(input(\"Our number to guess has been randomly generated. What is your first guess?\"))\n",
    "        guess_count = 0\n",
    "        \n",
    "        while guess_count <= 6:\n",
    "            if guess == num:\n",
    "                print(\"Well done, you got it!\")\n",
    "                break\n",
    "            elif guess > num:\n",
    "                print(\"Sorry try again. Your guess was too high\")\n",
    "                guess_count += 1\n",
    "                guess = int(input(\"What is your next guess?\"))\n",
    "\n",
    "            elif guess < num:\n",
    "                print(\"Sorry try again, your guess was too low\")\n",
    "                guess_count += 1\n",
    "                guess = int(input(\"What is your next guess?\"))\n",
    "    else:\n",
    "        print(\"Ah well maybe another time\")"
   ],
   "cell_type": "code",
   "metadata": {},
   "execution_count": 54,
   "outputs": []
  },
  {
   "cell_type": "code",
   "execution_count": 55,
   "metadata": {
    "tags": []
   },
   "outputs": [
    {
     "output_type": "stream",
     "name": "stdout",
     "text": [
      "Welcome to the number guesser game! Would you like to play?\n",
      "Lets get this show on the road, number is being generated now, you have 5 guesses to get this correct\n",
      "Sorry try again, your guess was too low\n",
      "Sorry try again, your guess was too low\n",
      "Sorry try again, your guess was too low\n",
      "Sorry try again, your guess was too low\n",
      "Sorry try again, your guess was too low\n",
      "Sorry try again, your guess was too low\n",
      "Sorry try again, your guess was too low\n"
     ]
    }
   ],
   "source": [
    "number_guesser()"
   ]
  },
  {
   "cell_type": "code",
   "execution_count": null,
   "metadata": {},
   "outputs": [],
   "source": []
  }
 ]
}
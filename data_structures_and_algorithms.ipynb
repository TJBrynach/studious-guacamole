{
 "metadata": {
  "language_info": {
   "codemirror_mode": {
    "name": "ipython",
    "version": 3
   },
   "file_extension": ".py",
   "mimetype": "text/x-python",
   "name": "python",
   "nbconvert_exporter": "python",
   "pygments_lexer": "ipython3",
   "version": "3.7.6-final"
  },
  "orig_nbformat": 2,
  "kernelspec": {
   "name": "python3",
   "display_name": "Python 3",
   "language": "python"
  }
 },
 "nbformat": 4,
 "nbformat_minor": 2,
 "cells": [
  {
   "cell_type": "code",
   "execution_count": 46,
   "metadata": {},
   "outputs": [],
   "source": [
    "import numpy as np"
   ]
  },
  {
   "cell_type": "code",
   "execution_count": 25,
   "metadata": {},
   "outputs": [
    {
     "output_type": "execute_result",
     "data": {
      "text/plain": [
       "True"
      ]
     },
     "metadata": {},
     "execution_count": 25
    }
   ],
   "source": [
    "# Page 128\n",
    "\n",
    "array1 = [\"a\",\"b\",\"c\",\"d\",\"e\",\"f\"]\n",
    "array2 = [\"b\",\"d\",\"f\",\"h\"]\n",
    "\n",
    "def issubset(a1,a2):\n",
    "    largerArray = []\n",
    "    smallerArray = []\n",
    "    hashtable = {}\n",
    "\n",
    "    if len(a1) > len(a2):\n",
    "        largerArray = a1\n",
    "        smallerArray = a2\n",
    "    else:\n",
    "        largerArray = a2\n",
    "        smallerArray = a1\n",
    "\n",
    "    for value in largerArray:\n",
    "        hashtable[value] = True\n",
    "\n",
    "    # print(hashtable)\n",
    "\n",
    "    for value in smallerArray:\n",
    "        if value not in hashtable:\n",
    "            return False\n",
    "\n",
    "        return True #Not working need to look back\n",
    "\n",
    " \n",
    "\n",
    "issubset(array1,array2)"
   ]
  },
  {
   "cell_type": "code",
   "execution_count": 32,
   "metadata": {},
   "outputs": [
    {
     "output_type": "execute_result",
     "data": {
      "text/plain": [
       "[2, 4]"
      ]
     },
     "metadata": {},
     "execution_count": 32
    }
   ],
   "source": [
    "#Exercises Chapter 8:\n",
    "# A function that returns the intersection of two arrays. \n",
    "\n",
    "array1 = [1,2,3,4,5]\n",
    "array2 = [0,2,4,6,8]\n",
    "\n",
    "# we want a return of [2,4] and a O(N)\n",
    "\n",
    "def issubset(a1,a2):\n",
    "    largerArray = []\n",
    "    smallerArray = []\n",
    "    intersection = []\n",
    "    hashtable = {}\n",
    "\n",
    "    if len(a1) > len(a2):\n",
    "        largerArray = a1\n",
    "        smallerArray = a2\n",
    "    else:\n",
    "        largerArray = a2\n",
    "        smallerArray = a1\n",
    "\n",
    "    for value in largerArray:\n",
    "        hashtable[value] = True\n",
    "\n",
    "    for value in smallerArray:\n",
    "        if value in hashtable:\n",
    "            intersection.append(value)\n",
    "    return intersection\n",
    "\n",
    " \n",
    "\n",
    "issubset(array1,array2)\n"
   ]
  },
  {
   "cell_type": "code",
   "execution_count": 52,
   "metadata": {},
   "outputs": [
    {
     "output_type": "execute_result",
     "data": {
      "text/plain": [
       "'c'"
      ]
     },
     "metadata": {},
     "execution_count": 52
    }
   ],
   "source": [
    "# write a function that accepts an array of strings and returns the first duplicate value it finds. \n",
    "\n",
    "\n",
    "array = [\"a\",\"b\",\"c\",\"d\",\"c\",\"e\",\"f\"] # should return c, time complexity of O(N)\n",
    "\n",
    "def find_duplicate(arr):\n",
    "    dict1 = {}\n",
    "\n",
    "    for value in arr:\n",
    "        if dict1.get(value):\n",
    "            return value\n",
    "        else:\n",
    "            dict1[value] = True\n",
    "    return None\n",
    "\n",
    "find_duplicate(array)"
   ]
  },
  {
   "cell_type": "code",
   "execution_count": 60,
   "metadata": {},
   "outputs": [
    {
     "output_type": "execute_result",
     "data": {
      "text/plain": [
       "'f'"
      ]
     },
     "metadata": {},
     "execution_count": 60
    }
   ],
   "source": [
    "# Question 3\n",
    "# Write a funmction that accepts a string that contains all letters of the alphabet except one and returns the missing letter should have \n",
    "# missing f below. time complexity of O(N)\n",
    "sentence = \"the quick brown box jumps over a lazy dog\"\n",
    "alphabet = \"abcdefghijklmnopqrstuvwxyz\"\n",
    "\n",
    "def missing_letter(string):\n",
    "    hashtable = {}\n",
    "\n",
    "    for value in string:\n",
    "        hashtable[value] = True\n",
    "\n",
    "    for char in alphabet:\n",
    "        if not hashtable.get(char):\n",
    "            return char\n",
    "    return None\n",
    "\n",
    "\n",
    "missing_letter(sentence)\n",
    "\n"
   ]
  },
  {
   "cell_type": "code",
   "execution_count": 74,
   "metadata": {},
   "outputs": [
    {
     "output_type": "execute_result",
     "data": {
      "text/plain": [
       "'n'"
      ]
     },
     "metadata": {},
     "execution_count": 74
    }
   ],
   "source": [
    "# Quesiton 4 \n",
    "# Write a function that returns the first non-dup char in a string for example, the string minimum should return n because its the first\n",
    "\n",
    "def non_duplicate(string):\n",
    "    hashtable = {}\n",
    "\n",
    "    for value in string:\n",
    "        if hashtable.get(value):\n",
    "            hashtable[value] += 1\n",
    "        else:\n",
    "            hashtable[value] = 1\n",
    "\n",
    "    for char in hashtable:\n",
    "        if hashtable.get(char) == 1:\n",
    "            return char\n",
    "non_duplicate(\"minimum\")"
   ]
  },
  {
   "cell_type": "code",
   "execution_count": 90,
   "metadata": {},
   "outputs": [
    {
     "output_type": "execute_result",
     "data": {
      "text/plain": [
       "{'p': 1, 'e': 1, 'n': 1, 'i': 1, 's': 4}"
      ]
     },
     "metadata": {},
     "execution_count": 90
    }
   ],
   "source": [
    "# Write a function that returns the first non-dup char in a string for example, the string minimum should return n because its the first\n",
    "\n",
    "def dups(string):\n",
    "    dict1 = {}\n",
    "\n",
    "    for char in string:\n",
    "        if dict1.get(char):\n",
    "            dict1[char] += 1\n",
    "        else:\n",
    "            dict1[char] = 1\n",
    "    return dict1\n",
    "dups(\"penissss\")"
   ]
  },
  {
   "cell_type": "code",
   "execution_count": 101,
   "metadata": {},
   "outputs": [],
   "source": [
    "class Stack:\n",
    "    def __init__(self):\n",
    "        self.data = []\n",
    "    \n",
    "    def push(self,element):\n",
    "        self.data.append(element)\n",
    "    \n",
    "    def pop(self):\n",
    "        return self.data.pop()\n",
    "        \n",
    "    def read(self):\n",
    "        if len(self.data) > 0:\n",
    "            return self.data[-1]\n",
    "        return None\n",
    "\n",
    "# Most languages dont have stacks as a built in data type or data structure."
   ]
  },
  {
   "cell_type": "code",
   "execution_count": 103,
   "metadata": {},
   "outputs": [
    {
     "output_type": "execute_result",
     "data": {
      "text/plain": [
       "'olleH'"
      ]
     },
     "metadata": {},
     "execution_count": 103
    }
   ],
   "source": [
    "# Question 9.4 python\n",
    "\n",
    "def reverse_string(string):\n",
    "    stack = Stack()\n",
    "\n",
    "    for char in string:\n",
    "        stack.push(char)\n",
    "\n",
    "    new_string = \"\"\n",
    "\n",
    "    while stack.read():\n",
    "        new_string += stack.pop()\n",
    "\n",
    "    return new_string\n",
    "\n",
    "\n",
    "reverse_string(\"Hello\")\n"
   ]
  },
  {
   "cell_type": "code",
   "execution_count": 127,
   "metadata": {},
   "outputs": [],
   "source": [
    "class Queue:\n",
    "    def __init__(self):\n",
    "        self.data = []\n",
    "\n",
    "    def enqueue(self,element):\n",
    "        self.data.append(element) # adds an item to the end of the array.\n",
    "\n",
    "    def dequeue(self):\n",
    "        return self.data.pop(0) # removes the first item of the array\n",
    "\n",
    "    def read(self):\n",
    "        if len(self.data) > 0:\n",
    "            return self.data[0]\n",
    "        return None\n",
    "# wraps an array with an interface that restricts our interaction with the data. \n",
    "# used for a variety of things including printing jobs and such. \n",
    "queue = Queue()"
   ]
  },
  {
   "cell_type": "code",
   "execution_count": 2,
   "metadata": {},
   "outputs": [
    {
     "output_type": "execute_result",
     "data": {
      "text/plain": [
       "6"
      ]
     },
     "metadata": {},
     "execution_count": 2
    }
   ],
   "source": [
    "def factorial(n):\n",
    "    if n == 1:\n",
    "        return 1\n",
    "    else:\n",
    "        return n * factorial(n - 1)\n",
    "\n",
    "factorial(3)"
   ]
  },
  {
   "cell_type": "code",
   "execution_count": 3,
   "metadata": {},
   "outputs": [
    {
     "output_type": "execute_result",
     "data": {
      "text/plain": [
       "21"
      ]
     },
     "metadata": {},
     "execution_count": 3
    }
   ],
   "source": [
    "def sum(low,high):\n",
    "    if low == high:\n",
    "        return low\n",
    "    return high + sum(low,high - 1)\n",
    "\n",
    "sum(1,6)"
   ]
  },
  {
   "cell_type": "code",
   "execution_count": 4,
   "metadata": {},
   "outputs": [],
   "source": [
    "def print_all_items(array):\n",
    "    for value in array:\n",
    "        if isinstance(value,list):\n",
    "            print_all_items(value)\n",
    "        else:\n",
    "            print(value)"
   ]
  },
  {
   "cell_type": "code",
   "execution_count": 4,
   "metadata": {},
   "outputs": [],
   "source": [
    "def double_array(array):\n",
    "    index = 0\n",
    "\n",
    "    while (index < len(array)):\n",
    "        array[index] *= 2\n",
    "        index += 1"
   ]
  },
  {
   "cell_type": "code",
   "execution_count": 6,
   "metadata": {},
   "outputs": [],
   "source": [
    "def double_array(array, index=0):\n",
    "    if index >= len(array):\n",
    "        return\n",
    "    array[index] *= 2\n",
    "    double_array(array, index + 1) "
   ]
  },
  {
   "cell_type": "code",
   "execution_count": 13,
   "metadata": {},
   "outputs": [],
   "source": [
    "# top down recursion\n",
    "\n",
    "def sum(array):\n",
    "    if len(array) <= 1:\n",
    "        return array\n",
    "    return array[0] + sum(len(array)-1)"
   ]
  },
  {
   "cell_type": "code",
   "execution_count": 14,
   "metadata": {},
   "outputs": [
    {
     "output_type": "error",
     "ename": "TypeError",
     "evalue": "object of type 'int' has no len()",
     "traceback": [
      "\u001b[0;31m---------------------------------------------------------------------------\u001b[0m",
      "\u001b[0;31mTypeError\u001b[0m                                 Traceback (most recent call last)",
      "\u001b[0;32m<ipython-input-14-6ffdd24c6764>\u001b[0m in \u001b[0;36m<module>\u001b[0;34m\u001b[0m\n\u001b[0;32m----> 1\u001b[0;31m \u001b[0msum\u001b[0m\u001b[0;34m(\u001b[0m\u001b[0;34m[\u001b[0m\u001b[0;36m1\u001b[0m\u001b[0;34m,\u001b[0m\u001b[0;36m23\u001b[0m\u001b[0;34m,\u001b[0m\u001b[0;36m4\u001b[0m\u001b[0;34m,\u001b[0m\u001b[0;36m2\u001b[0m\u001b[0;34m]\u001b[0m\u001b[0;34m)\u001b[0m\u001b[0;34m\u001b[0m\u001b[0;34m\u001b[0m\u001b[0m\n\u001b[0m",
      "\u001b[0;32m<ipython-input-13-761cdfb04fdf>\u001b[0m in \u001b[0;36msum\u001b[0;34m(array)\u001b[0m\n\u001b[1;32m      4\u001b[0m     \u001b[0;32mif\u001b[0m \u001b[0mlen\u001b[0m\u001b[0;34m(\u001b[0m\u001b[0marray\u001b[0m\u001b[0;34m)\u001b[0m \u001b[0;34m<=\u001b[0m \u001b[0;36m1\u001b[0m\u001b[0;34m:\u001b[0m\u001b[0;34m\u001b[0m\u001b[0;34m\u001b[0m\u001b[0m\n\u001b[1;32m      5\u001b[0m         \u001b[0;32mreturn\u001b[0m \u001b[0marray\u001b[0m\u001b[0;34m\u001b[0m\u001b[0;34m\u001b[0m\u001b[0m\n\u001b[0;32m----> 6\u001b[0;31m     \u001b[0;32mreturn\u001b[0m \u001b[0marray\u001b[0m\u001b[0;34m[\u001b[0m\u001b[0;36m0\u001b[0m\u001b[0;34m]\u001b[0m \u001b[0;34m+\u001b[0m \u001b[0msum\u001b[0m\u001b[0;34m(\u001b[0m\u001b[0mlen\u001b[0m\u001b[0;34m(\u001b[0m\u001b[0marray\u001b[0m\u001b[0;34m)\u001b[0m\u001b[0;34m-\u001b[0m\u001b[0;36m1\u001b[0m\u001b[0;34m)\u001b[0m\u001b[0;34m\u001b[0m\u001b[0;34m\u001b[0m\u001b[0m\n\u001b[0m",
      "\u001b[0;32m<ipython-input-13-761cdfb04fdf>\u001b[0m in \u001b[0;36msum\u001b[0;34m(array)\u001b[0m\n\u001b[1;32m      2\u001b[0m \u001b[0;34m\u001b[0m\u001b[0m\n\u001b[1;32m      3\u001b[0m \u001b[0;32mdef\u001b[0m \u001b[0msum\u001b[0m\u001b[0;34m(\u001b[0m\u001b[0marray\u001b[0m\u001b[0;34m)\u001b[0m\u001b[0;34m:\u001b[0m\u001b[0;34m\u001b[0m\u001b[0;34m\u001b[0m\u001b[0m\n\u001b[0;32m----> 4\u001b[0;31m     \u001b[0;32mif\u001b[0m \u001b[0mlen\u001b[0m\u001b[0;34m(\u001b[0m\u001b[0marray\u001b[0m\u001b[0;34m)\u001b[0m \u001b[0;34m<=\u001b[0m \u001b[0;36m1\u001b[0m\u001b[0;34m:\u001b[0m\u001b[0;34m\u001b[0m\u001b[0;34m\u001b[0m\u001b[0m\n\u001b[0m\u001b[1;32m      5\u001b[0m         \u001b[0;32mreturn\u001b[0m \u001b[0marray\u001b[0m\u001b[0;34m\u001b[0m\u001b[0;34m\u001b[0m\u001b[0m\n\u001b[1;32m      6\u001b[0m     \u001b[0;32mreturn\u001b[0m \u001b[0marray\u001b[0m\u001b[0;34m[\u001b[0m\u001b[0;36m0\u001b[0m\u001b[0;34m]\u001b[0m \u001b[0;34m+\u001b[0m \u001b[0msum\u001b[0m\u001b[0;34m(\u001b[0m\u001b[0mlen\u001b[0m\u001b[0;34m(\u001b[0m\u001b[0marray\u001b[0m\u001b[0;34m)\u001b[0m\u001b[0;34m-\u001b[0m\u001b[0;36m1\u001b[0m\u001b[0;34m)\u001b[0m\u001b[0;34m\u001b[0m\u001b[0;34m\u001b[0m\u001b[0m\n",
      "\u001b[0;31mTypeError\u001b[0m: object of type 'int' has no len()"
     ]
    }
   ],
   "source": [
    "sum([1,23,4,2])"
   ]
  },
  {
   "cell_type": "code",
   "execution_count": 33,
   "metadata": {},
   "outputs": [],
   "source": [
    "def count_x(string):\n",
    "    length = len(string)\n",
    "    if length == 1:\n",
    "        if string[0] == 'x':\n",
    "            return 1\n",
    "        else:\n",
    "            return 0\n",
    "    if string[0] == 'x':\n",
    "        return 1 + count_x(string[1:length - 1])\n",
    "    else:\n",
    "        return count_x(string[1:length - 1])"
   ]
  },
  {
   "cell_type": "code",
   "execution_count": 34,
   "metadata": {},
   "outputs": [
    {
     "output_type": "stream",
     "name": "stdout",
     "text": [
      "5\nell\n"
     ]
    }
   ],
   "source": [
    "x = 'hello'\n",
    "\n",
    "length = len(x)\n",
    "print(length)\n",
    "print(x[1:length-1])"
   ]
  },
  {
   "cell_type": "code",
   "execution_count": 39,
   "metadata": {},
   "outputs": [],
   "source": [
    "def max(array):\n",
    "    print('recursion')\n",
    "    if len(array) == 1:\n",
    "        return array[1,len(array)-1]\n",
    "    elif array[0] > max(array[1,len(array)-1]):\n",
    "        return array[0]\n",
    "    else:\n",
    "        return max(array[1,len(array)-1])"
   ]
  },
  {
   "cell_type": "code",
   "execution_count": 40,
   "metadata": {},
   "outputs": [
    {
     "output_type": "stream",
     "name": "stdout",
     "text": [
      "recursion\n"
     ]
    },
    {
     "output_type": "error",
     "ename": "TypeError",
     "evalue": "list indices must be integers or slices, not tuple",
     "traceback": [
      "\u001b[0;31m---------------------------------------------------------------------------\u001b[0m",
      "\u001b[0;31mTypeError\u001b[0m                                 Traceback (most recent call last)",
      "\u001b[0;32m<ipython-input-40-0dfb49e3cff3>\u001b[0m in \u001b[0;36m<module>\u001b[0;34m\u001b[0m\n\u001b[1;32m      1\u001b[0m \u001b[0mray\u001b[0m \u001b[0;34m=\u001b[0m \u001b[0;34m[\u001b[0m\u001b[0;36m1\u001b[0m\u001b[0;34m,\u001b[0m\u001b[0;36m2\u001b[0m\u001b[0;34m]\u001b[0m\u001b[0;34m\u001b[0m\u001b[0;34m\u001b[0m\u001b[0m\n\u001b[0;32m----> 2\u001b[0;31m \u001b[0mmax\u001b[0m\u001b[0;34m(\u001b[0m\u001b[0mray\u001b[0m\u001b[0;34m)\u001b[0m\u001b[0;34m\u001b[0m\u001b[0;34m\u001b[0m\u001b[0m\n\u001b[0m",
      "\u001b[0;32m<ipython-input-39-8fe1a700dca5>\u001b[0m in \u001b[0;36mmax\u001b[0;34m(array)\u001b[0m\n\u001b[1;32m      3\u001b[0m     \u001b[0;32mif\u001b[0m \u001b[0mlen\u001b[0m\u001b[0;34m(\u001b[0m\u001b[0marray\u001b[0m\u001b[0;34m)\u001b[0m \u001b[0;34m==\u001b[0m \u001b[0;36m1\u001b[0m\u001b[0;34m:\u001b[0m\u001b[0;34m\u001b[0m\u001b[0;34m\u001b[0m\u001b[0m\n\u001b[1;32m      4\u001b[0m         \u001b[0;32mreturn\u001b[0m \u001b[0marray\u001b[0m\u001b[0;34m[\u001b[0m\u001b[0;36m1\u001b[0m\u001b[0;34m,\u001b[0m\u001b[0mlen\u001b[0m\u001b[0;34m(\u001b[0m\u001b[0marray\u001b[0m\u001b[0;34m)\u001b[0m\u001b[0;34m-\u001b[0m\u001b[0;36m1\u001b[0m\u001b[0;34m]\u001b[0m\u001b[0;34m\u001b[0m\u001b[0;34m\u001b[0m\u001b[0m\n\u001b[0;32m----> 5\u001b[0;31m     \u001b[0;32melif\u001b[0m \u001b[0marray\u001b[0m\u001b[0;34m[\u001b[0m\u001b[0;36m0\u001b[0m\u001b[0;34m]\u001b[0m \u001b[0;34m>\u001b[0m \u001b[0mmax\u001b[0m\u001b[0;34m(\u001b[0m\u001b[0marray\u001b[0m\u001b[0;34m[\u001b[0m\u001b[0;36m1\u001b[0m\u001b[0;34m,\u001b[0m\u001b[0mlen\u001b[0m\u001b[0;34m(\u001b[0m\u001b[0marray\u001b[0m\u001b[0;34m)\u001b[0m\u001b[0;34m-\u001b[0m\u001b[0;36m1\u001b[0m\u001b[0;34m]\u001b[0m\u001b[0;34m)\u001b[0m\u001b[0;34m:\u001b[0m\u001b[0;34m\u001b[0m\u001b[0;34m\u001b[0m\u001b[0m\n\u001b[0m\u001b[1;32m      6\u001b[0m         \u001b[0;32mreturn\u001b[0m \u001b[0marray\u001b[0m\u001b[0;34m[\u001b[0m\u001b[0;36m0\u001b[0m\u001b[0;34m]\u001b[0m\u001b[0;34m\u001b[0m\u001b[0;34m\u001b[0m\u001b[0m\n\u001b[1;32m      7\u001b[0m     \u001b[0;32melse\u001b[0m\u001b[0;34m:\u001b[0m\u001b[0;34m\u001b[0m\u001b[0;34m\u001b[0m\u001b[0m\n",
      "\u001b[0;31mTypeError\u001b[0m: list indices must be integers or slices, not tuple"
     ]
    }
   ],
   "source": [
    "ray = [1,2]\n",
    "max(ray)"
   ]
  },
  {
   "cell_type": "code",
   "execution_count": 63,
   "metadata": {},
   "outputs": [],
   "source": [
    "def max(array):\n",
    "\n",
    "    print('Recursion')\n",
    "    if len(array) == 1:\n",
    "        return array[1,len(array)-1]\n",
    "\n",
    "    max_of_remainder = max(array[1,len(array)-1])\n",
    "\n",
    "    if array[0] > max_of_remainder:\n",
    "        return array[0]\n",
    "    else:\n",
    "        return max_of_remainder"
   ]
  },
  {
   "cell_type": "code",
   "execution_count": 68,
   "metadata": {},
   "outputs": [
    {
     "output_type": "error",
     "ename": "TypeError",
     "evalue": "'list' object is not callable",
     "traceback": [
      "\u001b[0;31m---------------------------------------------------------------------------\u001b[0m",
      "\u001b[0;31mTypeError\u001b[0m                                 Traceback (most recent call last)",
      "\u001b[0;32m<ipython-input-68-31f5da0c0df3>\u001b[0m in \u001b[0;36m<module>\u001b[0;34m\u001b[0m\n\u001b[1;32m      1\u001b[0m \u001b[0;32mimport\u001b[0m \u001b[0mnumpy\u001b[0m \u001b[0;32mas\u001b[0m \u001b[0mnp\u001b[0m\u001b[0;34m\u001b[0m\u001b[0;34m\u001b[0m\u001b[0m\n\u001b[1;32m      2\u001b[0m \u001b[0;34m\u001b[0m\u001b[0m\n\u001b[0;32m----> 3\u001b[0;31m \u001b[0marr\u001b[0m \u001b[0;34m=\u001b[0m \u001b[0mnp\u001b[0m\u001b[0;34m.\u001b[0m\u001b[0marray\u001b[0m\u001b[0;34m(\u001b[0m\u001b[0;34m[\u001b[0m\u001b[0;36m1\u001b[0m\u001b[0;34m,\u001b[0m \u001b[0;36m2\u001b[0m\u001b[0;34m,\u001b[0m \u001b[0;36m3\u001b[0m\u001b[0;34m,\u001b[0m \u001b[0;36m4\u001b[0m\u001b[0;34m]\u001b[0m\u001b[0;34m,\u001b[0m \u001b[0mndmin\u001b[0m\u001b[0;34m=\u001b[0m\u001b[0;36m5\u001b[0m\u001b[0;34m)\u001b[0m\u001b[0;34m\u001b[0m\u001b[0;34m\u001b[0m\u001b[0m\n\u001b[0m\u001b[1;32m      4\u001b[0m \u001b[0;34m\u001b[0m\u001b[0m\n\u001b[1;32m      5\u001b[0m \u001b[0mprint\u001b[0m\u001b[0;34m(\u001b[0m\u001b[0marr\u001b[0m\u001b[0;34m)\u001b[0m\u001b[0;34m\u001b[0m\u001b[0;34m\u001b[0m\u001b[0m\n",
      "\u001b[0;31mTypeError\u001b[0m: 'list' object is not callable"
     ]
    }
   ],
   "source": [
    "import numpy as np\n",
    "\n",
    "arr = np.array([1, 2, 3, 4], ndmin=5)\n",
    "\n",
    "print(arr)\n",
    "print('number of dimensions :', arr.ndim) "
   ]
  },
  {
   "cell_type": "code",
   "execution_count": 82,
   "metadata": {},
   "outputs": [
    {
     "output_type": "execute_result",
     "data": {
      "text/plain": [
       "55"
      ]
     },
     "metadata": {},
     "execution_count": 82
    }
   ],
   "source": [
    "def fib(n):\n",
    "    if n == 0 or n == 1:\n",
    "        return n\n",
    "    return fib(n - 2) + fib(n - 1) # summing the two numbers before the given spot\n",
    "# but this means we're calling the function twice. \\\n",
    "\n",
    "\n",
    "fib(10)"
   ]
  },
  {
   "cell_type": "code",
   "execution_count": 86,
   "metadata": {},
   "outputs": [
    {
     "output_type": "execute_result",
     "data": {
      "text/plain": [
       "8"
      ]
     },
     "metadata": {},
     "execution_count": 86
    }
   ],
   "source": [
    "def fib(n, memo = {}):\n",
    "    if n == 0 or n == 1:\n",
    "        return n\n",
    "    \n",
    "    if not memo.get(n): # check to see if the number called is already in the dictionary.\n",
    "        memo[n] = fib(n - 2, memo) + fib(n - 1, memo) \n",
    "    return memo[n]\n",
    "\n",
    "\n",
    "fib(6)"
   ]
  },
  {
   "cell_type": "code",
   "execution_count": 88,
   "metadata": {},
   "outputs": [
    {
     "output_type": "execute_result",
     "data": {
      "text/plain": [
       "8"
      ]
     },
     "metadata": {},
     "execution_count": 88
    }
   ],
   "source": [
    "## Bottom up fibonacci\n",
    "\n",
    "def fib(n):\n",
    "\n",
    "    if n == 0:\n",
    "        return 0\n",
    "\n",
    "    a = 0\n",
    "    b = 1\n",
    "\n",
    "    for i in range(a, n):\n",
    "        temp = a\n",
    "        a = b\n",
    "        b = temp + a\n",
    "    \n",
    "    return b\n",
    "\n",
    "fib(5)"
   ]
  },
  {
   "source": [
    "Chapter  11."
   ],
   "cell_type": "markdown",
   "metadata": {}
  },
  {
   "cell_type": "code",
   "execution_count": 29,
   "metadata": {},
   "outputs": [
    {
     "output_type": "execute_result",
     "data": {
      "text/plain": [
       "10"
      ]
     },
     "metadata": {},
     "execution_count": 29
    }
   ],
   "source": [
    "# 1 Use recursion to write a function that accepts an array of strings and returns the total number of characters across all the strings.\n",
    "# For example input ['ab','c','def','ghij'] should output 10 since there are 10 characters\n",
    "\n",
    "def total(arr):\n",
    "    if len(arr) == 0:\n",
    "        return 0\n",
    "    return len(arr[0]) + total(arr[1:])\n",
    "    \n",
    "total(['ab','c','def','ghij'])"
   ]
  },
  {
   "cell_type": "code",
   "execution_count": 50,
   "metadata": {},
   "outputs": [
    {
     "output_type": "execute_result",
     "data": {
      "text/plain": [
       "[2, 4, 6, 8, 10]"
      ]
     },
     "metadata": {},
     "execution_count": 50
    }
   ],
   "source": [
    "# 2 use recursion to write a function that accepts an array of numbers and returns a new array of even numbers\n",
    "\n",
    "def even_array(arr):\n",
    "    if len(arr) == 0:\n",
    "        return []\n",
    "\n",
    "    if arr[0] % 2 == 0:\n",
    "        return [arr[0]] + even_array(arr[1:])\n",
    "    else:\n",
    "        return even_array(arr[1:])\n",
    "\n",
    "\n",
    "even_array([1,2,3,4,5,6,7,8,9,10])"
   ]
  },
  {
   "cell_type": "code",
   "execution_count": 48,
   "metadata": {},
   "outputs": [],
   "source": [
    "# 3 triangular numbers. The pattern begins with 1,3,6,10,15,21 and contineus until n which is n + previous number. 7th number is 28 which is n + 21"
   ]
  },
  {
   "cell_type": "code",
   "execution_count": 54,
   "metadata": {},
   "outputs": [
    {
     "output_type": "execute_result",
     "data": {
      "text/plain": [
       "28"
      ]
     },
     "metadata": {},
     "execution_count": 54
    }
   ],
   "source": [
    "def triangular_numbers(n):\n",
    "    if n == 0:\n",
    "        return 0\n",
    "    return n + triangular_numbers(n-1)\n",
    "    \n",
    "triangular_numbers(7)"
   ]
  },
  {
   "cell_type": "code",
   "execution_count": 64,
   "metadata": {},
   "outputs": [],
   "source": [
    "# 4 use recursion to write a function that accepts a string and returns the first index that contains x for example the string, 'abcdefghijklmnopqrstuvwxyz' has index = 23.\n",
    "\n",
    "def index_x(string):\n",
    "    if string[0] == 'x':\n",
    "        return 0\n",
    "    else:\n",
    "        return index_x(string[1:]) + 1"
   ]
  },
  {
   "cell_type": "code",
   "execution_count": 65,
   "metadata": {},
   "outputs": [
    {
     "output_type": "execute_result",
     "data": {
      "text/plain": [
       "23"
      ]
     },
     "metadata": {},
     "execution_count": 65
    }
   ],
   "source": [
    "index_x('abcdefghijklmnopqrstuvwxyz')"
   ]
  },
  {
   "cell_type": "code",
   "execution_count": 78,
   "metadata": {},
   "outputs": [
    {
     "output_type": "execute_result",
     "data": {
      "text/plain": [
       "6"
      ]
     },
     "metadata": {},
     "execution_count": 78
    }
   ],
   "source": [
    "# 5 write a function that accepts a number of rows and number of columns and calculates the number of possible shortest paths from the top left square to the bottom left. NUMBER OF SHORTEST PATHS Ndidididdsadsdaklj\n",
    "\n",
    "def shortest_route(r,c):\n",
    "    if r == 1 or c == 1:\n",
    "        return 1\n",
    "\n",
    "    return shortest_route(r-1,c) + shortest_route(r,c-1)\n",
    "\n",
    "shortest_route(3,3)"
   ]
  },
  {
   "source": [
    "</Header2> Chapter 12 Exercises"
   ],
   "cell_type": "markdown",
   "metadata": {}
  },
  {
   "cell_type": "code",
   "execution_count": 87,
   "metadata": {},
   "outputs": [
    {
     "output_type": "execute_result",
     "data": {
      "text/plain": [
       "15"
      ]
     },
     "metadata": {},
     "execution_count": 87
    }
   ],
   "source": [
    "# 1. the following function accept\n",
    "\n",
    "def add_until_100(arr):\n",
    "    if len(arr) == 0:\n",
    "        return 0\n",
    "    if arr[0] + add_until_100(arr[1:]) > 100:\n",
    "        return add_until_100(arr[1:])\n",
    "    else:\n",
    "        return arr[0] + add_until_100(arr[1:])\n",
    "\n",
    "# Make the above function \n",
    "add_until_100([1,2,3,4,5,12])\n",
    "\n",
    "def addUntil100(arr):\n",
    "    if len(arr) == 0:\n",
    "        return 0\n",
    "    sum = addUntil100(arr[1:])\n",
    "    if arr[0] + sum > 100:\n",
    "        return sum\n",
    "    else:\n",
    "        return arr[0] + sum\n",
    "\n",
    "addUntil100([1,2,3,4,5])"
   ]
  },
  {
   "cell_type": "code",
   "execution_count": 110,
   "metadata": {},
   "outputs": [],
   "source": [
    "#2. Nth number from golomb sequence. Use Memoization to optimise it \n",
    "\n",
    "def golomb(n):\n",
    "    if n == 1:\n",
    "        return 1\n",
    "    return 1 + golomb(n - golomb(golomb(n-1)))\n",
    "\n",
    "golomb(5)\n",
    "\n",
    "\n",
    " \n",
    "def golomb1(n, memo = {}):\n",
    "    if n == 1:\n",
    "        return 1\n",
    "        \n",
    "    if not memo.get(n):\n",
    "        memo[n] = 1 + golomb(n - golomb(golomb(n-1,memo),memo), memo)\n",
    "    return memo[n]"
   ]
  },
  {
   "cell_type": "code",
   "execution_count": 107,
   "metadata": {},
   "outputs": [
    {
     "output_type": "execute_result",
     "data": {
      "text/plain": [
       "3"
      ]
     },
     "metadata": {},
     "execution_count": 107
    }
   ],
   "source": [
    "golomb(5)"
   ]
  },
  {
   "cell_type": "code",
   "execution_count": 112,
   "metadata": {},
   "outputs": [
    {
     "output_type": "execute_result",
     "data": {
      "text/plain": [
       "3"
      ]
     },
     "metadata": {},
     "execution_count": 112
    }
   ],
   "source": [
    "golomb1(5)"
   ]
  },
  {
   "cell_type": "code",
   "execution_count": 118,
   "metadata": {},
   "outputs": [
    {
     "output_type": "execute_result",
     "data": {
      "text/plain": [
       "6"
      ]
     },
     "metadata": {},
     "execution_count": 118
    }
   ],
   "source": [
    "# 3 iomporve by memoizaiton\n",
    "\n",
    "def unique_paths(rows , columns):\n",
    "    if rows == 1 or columns == 1:\n",
    "        return 1\n",
    "    return unique_paths(rows -  1, columns) + unique_paths(rows, columns -1)\n",
    "\n",
    "\n",
    "def unique_paths1(rows, columns, memo = {}):\n",
    "    if rows == 1 or columns == 1:\n",
    "        return 1\n",
    "    \n",
    "    if not memo.get((rows,columns)):\n",
    "        memo[(rows,columns)] = unique_paths(rows -  1, columns) + unique_paths(rows, columns -1)\n",
    "    return memo[(rows,columns)]\n",
    "\n",
    "unique_paths1(3,3)"
   ]
  },
  {
   "source": [
    "To partition an array is to take a random value from the array which is often called the pivot. "
   ],
   "cell_type": "markdown",
   "metadata": {}
  },
  {
   "cell_type": "code",
   "execution_count": 119,
   "metadata": {},
   "outputs": [],
   "source": [
    "class SortableArray: \n",
    "    def __init__(self,array):\n",
    "        self.array = array\n",
    "\n",
    "    def partition(left_pointer,right_pointer):\n",
    "        pivot_index = right_pointer\n",
    "\n",
    "        pivot = array[pivot_index]\n",
    "\n",
    "        right_pointer -= 1\n",
    "\n",
    "        while True:\n",
    "\n",
    "            while array[left_pointer] < pivot:\n",
    "                right_pointer -= 1\n",
    "\n",
    "            if left_pointer >= right_pointer:\n",
    "                break\n",
    "\n",
    "            else:\n",
    "                array[left_pointer], array[right_pointer] = array[right_pointer], array[left_pointer]\n",
    "\n",
    "                left_pointer += 1"
   ]
  },
  {
   "cell_type": "code",
   "execution_count": 121,
   "metadata": {},
   "outputs": [],
   "source": [
    "def quickselect(kth_lowest_value, left_index, right_index):\n",
    "  # If we reach a base case - that is, that the subarray has one cell,\n",
    "  # we know we've found the value we're looking for:\n",
    "  if right_index - left_index <= 0:\n",
    "      return array[left_index]\n",
    "\n",
    "  # Partition the array and grab the index of the pivot:\n",
    "  pivot_index = partition(left_index, right_index)\n",
    "  \n",
    "  # If what we're looking for is to the left of the pivot:\n",
    "  if kth_lowest_value < pivot_index:\n",
    "    # Recursively perform quickselect on the subarray to \n",
    "    # the left of the pivot:\n",
    "    quickselect(kth_lowest_value, left_index, pivot_index - 1)\n",
    "  # If what we're looking for is to the right of the pivot:\n",
    "  elif kth_lowest_value > pivot_index:\n",
    "    # Recursively perform quickselect on the subarray to \n",
    "    # the right of the pivot:\n",
    "    quickselect(kth_lowest_value, pivot_index + 1, right_index)\n",
    "  else: # if kth_lowest_value == pivot_index\n",
    "    # if after the partition, the pivot position is in the same spot\n",
    "    # as the kth lowest value, we've found the value we're looking for\n",
    "    return array[pivot_index]"
   ]
  },
  {
   "source": [
    "Chapter 13 Exercises"
   ],
   "cell_type": "markdown",
   "metadata": {}
  },
  {
   "cell_type": "code",
   "execution_count": 122,
   "metadata": {},
   "outputs": [],
   "source": [
    "# 1. array of pos numbers write a function that returns the greatest product of any 3 numbers \n",
    "\n",
    "def greatestproductof3(array):\n",
    "    array.sort()\n",
    "    return array[-1] * array[-2] * array[-3]\n"
   ]
  },
  {
   "cell_type": "code",
   "execution_count": 129,
   "metadata": {},
   "outputs": [],
   "source": [
    "# one which is missing number\n",
    "def missing_number(array):\n",
    "    array.sort()\n",
    "    for i in range(len(array)):\n",
    "        if array[i] != i:\n",
    "            return i\n",
    "        else:\n",
    "            return 0\n",
    "\n"
   ]
  },
  {
   "cell_type": "code",
   "execution_count": 131,
   "metadata": {},
   "outputs": [],
   "source": [
    "# 3 write three different implementationsn of a function that finds the greatest number within an array, one which is O(n^2) one which is O(nlog(n)) and one which is O(n)\n",
    "\n",
    "def largest_number(array): # n log(n)\n",
    "    array.sort()\n",
    "    return array[-1]    \n",
    "\n",
    "def largest_number3(array):\n",
    "    num = array[0]\n",
    "\n",
    "    for i in array:\n",
    "        if i > num:\n",
    "            num = i\n",
    "    return num\n",
    "\n",
    "\n",
    "#----------------------------------------------------\n",
    "def largest_number2(array):\n",
    "    for i in array:\n",
    "        big_num = True\n",
    "\n",
    "        for j in array:\n",
    "            if j > i:\n",
    "                big_num = False\n",
    "        \n",
    "        if big_num:\n",
    "            return i\n",
    "\n",
    "\n",
    "# "
   ]
  },
  {
   "source": [
    "Chapter 14 - Node-based Data Structures\n"
   ],
   "cell_type": "markdown",
   "metadata": {}
  },
  {
   "cell_type": "code",
   "execution_count": 134,
   "metadata": {},
   "outputs": [],
   "source": [
    "# Exercise 1\n",
    "\n",
    "class Node:\n",
    "    def __init__(self,data, nextNode= None):\n",
    "        self.data = data\n",
    "        self.nextNode = nextNode\n",
    "\n",
    "class LinkedList:\n",
    "    def __init__(self, firstNode):\n",
    "        self.firstNode = firstNode\n",
    "\n",
    "    def printedList(self):\n",
    "        currentNode = self.firstNode\n",
    "\n",
    "        while currentNode:\n",
    "            print(currentNode.data)\n",
    "            currentNode = currentNode.nextNode"
   ]
  },
  {
   "cell_type": "code",
   "execution_count": null,
   "metadata": {},
   "outputs": [],
   "source": [
    "# exercise 2\n",
    "class Node:\n",
    "    def __init__(self,data, nextNode= None, previousNode = None):\n",
    "        self.data = data\n",
    "        self.nextNode = nextNode\n",
    "        self.previousNode = previousNode\n",
    "\n",
    "class DoublyLinkedList:\n",
    "    def __init__(self, firstNode, lastNode):\n",
    "        self.firstNode = firstNode\n",
    "        self.lastNode = lastNode\n",
    "\n",
    "    def print_reverse(self):\n",
    "        currentNode = self.lastNode\n",
    "\n",
    "        while currentNode:\n",
    "            print(currentNode.data)\n",
    "            currentNode = currentNode.previousNode"
   ]
  },
  {
   "cell_type": "code",
   "execution_count": null,
   "metadata": {},
   "outputs": [],
   "source": [
    "# Exercise 3 add a method that returns the last element \n",
    "\n",
    "class Node:\n",
    "    def __init__(self,data, nextNode= None):\n",
    "        self.data = data\n",
    "        self.nextNode = nextNode\n",
    "\n",
    "class LinkedList:\n",
    "    def __init__(self, firstNode):\n",
    "        self.firstNode = firstNode\n",
    "\n",
    "    def finalElement(self):\n",
    "        currentNode = self.firstNode\n",
    "\n",
    "        while currentNode.nextNode:\n",
    "            currentNode = currentNode.nextNode\n",
    "        return currentNode.data\n",
    "\n",
    "# Exercise4 add a method to linkedlist class that reverse the list. \n",
    "\n",
    "    def reverse(self):\n",
    "        previousNode = None\n",
    "        currentNode = self.firstNode\n",
    "\n",
    "        while currentNode:\n",
    "            nextNode = currentNode.nextNode\n",
    "\n",
    "            currentNode.nextNode = previousNode\n",
    "\n",
    "            previousNode = currentNode\n",
    "            currentNode = nextNode\n",
    "\n",
    "        self.firstNode = previousNode"
   ]
  },
  {
   "cell_type": "code",
   "execution_count": null,
   "metadata": {},
   "outputs": [],
   "source": []
  }
 ]
}
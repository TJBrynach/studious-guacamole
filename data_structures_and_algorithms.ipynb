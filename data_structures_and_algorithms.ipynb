{
 "metadata": {
  "language_info": {
   "codemirror_mode": {
    "name": "ipython",
    "version": 3
   },
   "file_extension": ".py",
   "mimetype": "text/x-python",
   "name": "python",
   "nbconvert_exporter": "python",
   "pygments_lexer": "ipython3",
   "version": "3.7.6-final"
  },
  "orig_nbformat": 2,
  "kernelspec": {
   "name": "python3",
   "display_name": "Python 3",
   "language": "python"
  }
 },
 "nbformat": 4,
 "nbformat_minor": 2,
 "cells": [
  {
   "cell_type": "code",
   "execution_count": 25,
   "metadata": {},
   "outputs": [
    {
     "output_type": "execute_result",
     "data": {
      "text/plain": [
       "True"
      ]
     },
     "metadata": {},
     "execution_count": 25
    }
   ],
   "source": [
    "# Page 128\n",
    "\n",
    "array1 = [\"a\",\"b\",\"c\",\"d\",\"e\",\"f\"]\n",
    "array2 = [\"b\",\"d\",\"f\",\"h\"]\n",
    "\n",
    "def issubset(a1,a2):\n",
    "    largerArray = []\n",
    "    smallerArray = []\n",
    "    hashtable = {}\n",
    "\n",
    "    if len(a1) > len(a2):\n",
    "        largerArray = a1\n",
    "        smallerArray = a2\n",
    "    else:\n",
    "        largerArray = a2\n",
    "        smallerArray = a1\n",
    "\n",
    "    for value in largerArray:\n",
    "        hashtable[value] = True\n",
    "\n",
    "    # print(hashtable)\n",
    "\n",
    "    for value in smallerArray:\n",
    "        if value not in hashtable:\n",
    "            return False\n",
    "\n",
    "        return True #Not working need to look back\n",
    "\n",
    " \n",
    "\n",
    "issubset(array1,array2)"
   ]
  },
  {
   "cell_type": "code",
   "execution_count": 32,
   "metadata": {},
   "outputs": [
    {
     "output_type": "execute_result",
     "data": {
      "text/plain": [
       "[2, 4]"
      ]
     },
     "metadata": {},
     "execution_count": 32
    }
   ],
   "source": [
    "#Exercises Chapter 8:\n",
    "# A function that returns the intersection of two arrays. \n",
    "\n",
    "array1 = [1,2,3,4,5]\n",
    "array2 = [0,2,4,6,8]\n",
    "\n",
    "# we want a return of [2,4] and a O(N)\n",
    "\n",
    "def issubset(a1,a2):\n",
    "    largerArray = []\n",
    "    smallerArray = []\n",
    "    intersection = []\n",
    "    hashtable = {}\n",
    "\n",
    "    if len(a1) > len(a2):\n",
    "        largerArray = a1\n",
    "        smallerArray = a2\n",
    "    else:\n",
    "        largerArray = a2\n",
    "        smallerArray = a1\n",
    "\n",
    "    for value in largerArray:\n",
    "        hashtable[value] = True\n",
    "\n",
    "    for value in smallerArray:\n",
    "        if value in hashtable:\n",
    "            intersection.append(value)\n",
    "    return intersection\n",
    "\n",
    " \n",
    "\n",
    "issubset(array1,array2)\n"
   ]
  },
  {
   "cell_type": "code",
   "execution_count": 52,
   "metadata": {},
   "outputs": [
    {
     "output_type": "execute_result",
     "data": {
      "text/plain": [
       "'c'"
      ]
     },
     "metadata": {},
     "execution_count": 52
    }
   ],
   "source": [
    "# write a function that accepts an array of strings and returns the first duplicate value it finds. \n",
    "\n",
    "\n",
    "array = [\"a\",\"b\",\"c\",\"d\",\"c\",\"e\",\"f\"] # should return c, time complexity of O(N)\n",
    "\n",
    "def find_duplicate(arr):\n",
    "    dict1 = {}\n",
    "\n",
    "    for value in arr:\n",
    "        if dict1.get(value):\n",
    "            return value\n",
    "        else:\n",
    "            dict1[value] = True\n",
    "    return None\n",
    "\n",
    "find_duplicate(array)"
   ]
  },
  {
   "cell_type": "code",
   "execution_count": 60,
   "metadata": {},
   "outputs": [
    {
     "output_type": "execute_result",
     "data": {
      "text/plain": [
       "'f'"
      ]
     },
     "metadata": {},
     "execution_count": 60
    }
   ],
   "source": [
    "# Question 3\n",
    "# Write a funmction that accepts a string that contains all letters of the alphabet except one and returns the missing letter should have \n",
    "# missing f below. time complexity of O(N)\n",
    "sentence = \"the quick brown box jumps over a lazy dog\"\n",
    "alphabet = \"abcdefghijklmnopqrstuvwxyz\"\n",
    "\n",
    "def missing_letter(string):\n",
    "    hashtable = {}\n",
    "\n",
    "    for value in string:\n",
    "        hashtable[value] = True\n",
    "\n",
    "    for char in alphabet:\n",
    "        if not hashtable.get(char):\n",
    "            return char\n",
    "    return None\n",
    "\n",
    "\n",
    "missing_letter(sentence)\n",
    "\n"
   ]
  },
  {
   "cell_type": "code",
   "execution_count": 74,
   "metadata": {},
   "outputs": [
    {
     "output_type": "execute_result",
     "data": {
      "text/plain": [
       "'n'"
      ]
     },
     "metadata": {},
     "execution_count": 74
    }
   ],
   "source": [
    "# Quesiton 4 \n",
    "# Write a function that returns the first non-dup char in a string for example, the string minimum should return n because its the first\n",
    "\n",
    "def non_duplicate(string):\n",
    "    hashtable = {}\n",
    "\n",
    "    for value in string:\n",
    "        if hashtable.get(value):\n",
    "            hashtable[value] += 1\n",
    "        else:\n",
    "            hashtable[value] = 1\n",
    "\n",
    "    for char in hashtable:\n",
    "        if hashtable.get(char) == 1:\n",
    "            return char\n",
    "non_duplicate(\"minimum\")"
   ]
  },
  {
   "cell_type": "code",
   "execution_count": 90,
   "metadata": {},
   "outputs": [
    {
     "output_type": "execute_result",
     "data": {
      "text/plain": [
       "{'p': 1, 'e': 1, 'n': 1, 'i': 1, 's': 4}"
      ]
     },
     "metadata": {},
     "execution_count": 90
    }
   ],
   "source": [
    "# Write a function that returns the first non-dup char in a string for example, the string minimum should return n because its the first\n",
    "\n",
    "def dups(string):\n",
    "    dict1 = {}\n",
    "\n",
    "    for char in string:\n",
    "        if dict1.get(char):\n",
    "            dict1[char] += 1\n",
    "        else:\n",
    "            dict1[char] = 1\n",
    "    return dict1\n",
    "dups(\"penissss\")"
   ]
  },
  {
   "cell_type": "code",
   "execution_count": 101,
   "metadata": {},
   "outputs": [],
   "source": [
    "class Stack:\n",
    "    def __init__(self):\n",
    "        self.data = []\n",
    "    \n",
    "    def push(self,element):\n",
    "        self.data.append(element)\n",
    "    \n",
    "    def pop(self):\n",
    "        return self.data.pop()\n",
    "        \n",
    "    def read(self):\n",
    "        if len(self.data) > 0:\n",
    "            return self.data[-1]\n",
    "        return None\n",
    "\n",
    "# Most languages dont have stacks as a built in data type or data structure."
   ]
  },
  {
   "cell_type": "code",
   "execution_count": 103,
   "metadata": {},
   "outputs": [
    {
     "output_type": "execute_result",
     "data": {
      "text/plain": [
       "'olleH'"
      ]
     },
     "metadata": {},
     "execution_count": 103
    }
   ],
   "source": [
    "# Question 9.4 python\n",
    "\n",
    "def reverse_string(string):\n",
    "    stack = Stack()\n",
    "\n",
    "    for char in string:\n",
    "        stack.push(char)\n",
    "\n",
    "    new_string = \"\"\n",
    "\n",
    "    while stack.read():\n",
    "        new_string += stack.pop()\n",
    "\n",
    "    return new_string\n",
    "\n",
    "\n",
    "reverse_string(\"Hello\")\n"
   ]
  },
  {
   "cell_type": "code",
   "execution_count": 127,
   "metadata": {},
   "outputs": [],
   "source": [
    "class Queue:\n",
    "    def __init__(self):\n",
    "        self.data = []\n",
    "\n",
    "    def enqueue(self,element):\n",
    "        self.data.append(element) # adds an item to the end of the array.\n",
    "\n",
    "    def dequeue(self):\n",
    "        return self.data.pop(0) # removes the first item of the array\n",
    "\n",
    "    def read(self):\n",
    "        if len(self.data) > 0:\n",
    "            return self.data[0]\n",
    "        return None\n",
    "# wraps an array with an interface that restricts our interaction with the data. \n",
    "# used for a variety of things including printing jobs and such. \n",
    "queue = Queue()"
   ]
  },
  {
   "cell_type": "code",
   "execution_count": 2,
   "metadata": {},
   "outputs": [
    {
     "output_type": "execute_result",
     "data": {
      "text/plain": [
       "6"
      ]
     },
     "metadata": {},
     "execution_count": 2
    }
   ],
   "source": [
    "def factorial(n):\n",
    "    if n == 1:\n",
    "        return 1\n",
    "    else:\n",
    "        return n * factorial(n - 1)\n",
    "\n",
    "factorial(3)"
   ]
  },
  {
   "cell_type": "code",
   "execution_count": 3,
   "metadata": {},
   "outputs": [
    {
     "output_type": "execute_result",
     "data": {
      "text/plain": [
       "21"
      ]
     },
     "metadata": {},
     "execution_count": 3
    }
   ],
   "source": [
    "def sum(low,high):\n",
    "    if low == high:\n",
    "        return low\n",
    "    return high + sum(low,high - 1)\n",
    "\n",
    "sum(1,6)"
   ]
  },
  {
   "cell_type": "code",
   "execution_count": 4,
   "metadata": {},
   "outputs": [],
   "source": [
    "def print_all_items(array):\n",
    "    for value in array:\n",
    "        if isinstance(value,list):\n",
    "            print_all_items(value)\n",
    "        else:\n",
    "            print(value)"
   ]
  },
  {
   "cell_type": "code",
   "execution_count": null,
   "metadata": {},
   "outputs": [],
   "source": []
  }
 ]
}